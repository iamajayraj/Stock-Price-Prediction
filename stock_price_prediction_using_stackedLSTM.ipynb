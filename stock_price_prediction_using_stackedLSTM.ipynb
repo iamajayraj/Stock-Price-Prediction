{
  "cells": [
    {
      "cell_type": "markdown",
      "metadata": {
        "id": "view-in-github",
        "colab_type": "text"
      },
      "source": [
        "<a href=\"https://colab.research.google.com/github/iamajayraj/Stock-Price-Prediction/blob/master/stock_price_prediction_using_stackedLSTM.ipynb\" target=\"_parent\"><img src=\"https://colab.research.google.com/assets/colab-badge.svg\" alt=\"Open In Colab\"/></a>"
      ]
    },
    {
      "cell_type": "code",
      "execution_count": 38,
      "metadata": {
        "id": "TCdntXXvJDfG"
      },
      "outputs": [],
      "source": [
        "import numpy as np\n",
        "import pandas as pd\n",
        "import matplotlib.pyplot as plt\n",
        "import tensorflow as tf\n",
        "from tensorflow.keras.models import Sequential\n",
        "from tensorflow.keras.layers import Dense,Dropout\n",
        "from tensorflow.keras.layers import LSTM\n",
        "from keras.regularizers import l2\n",
        "from tensorflow.keras.callbacks import LearningRateScheduler,EarlyStopping"
      ]
    },
    {
      "cell_type": "code",
      "execution_count": 39,
      "metadata": {
        "colab": {
          "base_uri": "https://localhost:8080/",
          "height": 423
        },
        "id": "EM49U6GSMkuI",
        "outputId": "6e9fbfd1-f2d3-4803-889b-2c9dfc21359a"
      },
      "outputs": [
        {
          "output_type": "execute_result",
          "data": {
            "text/plain": [
              "            Date        Open        High         Low       Close   Adj Close  \\\n",
              "0     1996-01-01   18.691147   18.978922   18.540184   18.823240   12.409932   \n",
              "1     1996-01-02   18.894005   18.964767   17.738192   18.224106   12.014932   \n",
              "2     1996-01-03   18.327892   18.568489   17.643839   17.738192   11.694572   \n",
              "3     1996-01-04   17.502312   17.832542   17.223972   17.676863   11.654138   \n",
              "4     1996-01-05   17.738192   17.785366   17.459852   17.577793   11.588826   \n",
              "...          ...         ...         ...         ...         ...         ...   \n",
              "7007  2023-11-03  576.000000  579.500000  573.450012  578.150024  578.150024   \n",
              "7008  2023-11-06  582.000000  582.500000  573.250000  574.349976  574.349976   \n",
              "7009  2023-11-07  574.799988  581.200012  572.599976  579.750000  579.750000   \n",
              "7010  2023-11-08  581.900024  582.599976  579.000000  580.299988  580.299988   \n",
              "7011  2023-11-09  581.000000  581.849976  576.500000  578.349976  578.349976   \n",
              "\n",
              "          Volume  \n",
              "0     43733533.0  \n",
              "1     56167280.0  \n",
              "2     68296318.0  \n",
              "3     86073880.0  \n",
              "4     76613039.0  \n",
              "...          ...  \n",
              "7007  11371371.0  \n",
              "7008  16499138.0  \n",
              "7009  17923281.0  \n",
              "7010  15434808.0  \n",
              "7011  12434363.0  \n",
              "\n",
              "[7012 rows x 7 columns]"
            ],
            "text/html": [
              "\n",
              "  <div id=\"df-a7fefd09-03ef-496e-933d-7e28308eec00\" class=\"colab-df-container\">\n",
              "    <div>\n",
              "<style scoped>\n",
              "    .dataframe tbody tr th:only-of-type {\n",
              "        vertical-align: middle;\n",
              "    }\n",
              "\n",
              "    .dataframe tbody tr th {\n",
              "        vertical-align: top;\n",
              "    }\n",
              "\n",
              "    .dataframe thead th {\n",
              "        text-align: right;\n",
              "    }\n",
              "</style>\n",
              "<table border=\"1\" class=\"dataframe\">\n",
              "  <thead>\n",
              "    <tr style=\"text-align: right;\">\n",
              "      <th></th>\n",
              "      <th>Date</th>\n",
              "      <th>Open</th>\n",
              "      <th>High</th>\n",
              "      <th>Low</th>\n",
              "      <th>Close</th>\n",
              "      <th>Adj Close</th>\n",
              "      <th>Volume</th>\n",
              "    </tr>\n",
              "  </thead>\n",
              "  <tbody>\n",
              "    <tr>\n",
              "      <th>0</th>\n",
              "      <td>1996-01-01</td>\n",
              "      <td>18.691147</td>\n",
              "      <td>18.978922</td>\n",
              "      <td>18.540184</td>\n",
              "      <td>18.823240</td>\n",
              "      <td>12.409932</td>\n",
              "      <td>43733533.0</td>\n",
              "    </tr>\n",
              "    <tr>\n",
              "      <th>1</th>\n",
              "      <td>1996-01-02</td>\n",
              "      <td>18.894005</td>\n",
              "      <td>18.964767</td>\n",
              "      <td>17.738192</td>\n",
              "      <td>18.224106</td>\n",
              "      <td>12.014932</td>\n",
              "      <td>56167280.0</td>\n",
              "    </tr>\n",
              "    <tr>\n",
              "      <th>2</th>\n",
              "      <td>1996-01-03</td>\n",
              "      <td>18.327892</td>\n",
              "      <td>18.568489</td>\n",
              "      <td>17.643839</td>\n",
              "      <td>17.738192</td>\n",
              "      <td>11.694572</td>\n",
              "      <td>68296318.0</td>\n",
              "    </tr>\n",
              "    <tr>\n",
              "      <th>3</th>\n",
              "      <td>1996-01-04</td>\n",
              "      <td>17.502312</td>\n",
              "      <td>17.832542</td>\n",
              "      <td>17.223972</td>\n",
              "      <td>17.676863</td>\n",
              "      <td>11.654138</td>\n",
              "      <td>86073880.0</td>\n",
              "    </tr>\n",
              "    <tr>\n",
              "      <th>4</th>\n",
              "      <td>1996-01-05</td>\n",
              "      <td>17.738192</td>\n",
              "      <td>17.785366</td>\n",
              "      <td>17.459852</td>\n",
              "      <td>17.577793</td>\n",
              "      <td>11.588826</td>\n",
              "      <td>76613039.0</td>\n",
              "    </tr>\n",
              "    <tr>\n",
              "      <th>...</th>\n",
              "      <td>...</td>\n",
              "      <td>...</td>\n",
              "      <td>...</td>\n",
              "      <td>...</td>\n",
              "      <td>...</td>\n",
              "      <td>...</td>\n",
              "      <td>...</td>\n",
              "    </tr>\n",
              "    <tr>\n",
              "      <th>7007</th>\n",
              "      <td>2023-11-03</td>\n",
              "      <td>576.000000</td>\n",
              "      <td>579.500000</td>\n",
              "      <td>573.450012</td>\n",
              "      <td>578.150024</td>\n",
              "      <td>578.150024</td>\n",
              "      <td>11371371.0</td>\n",
              "    </tr>\n",
              "    <tr>\n",
              "      <th>7008</th>\n",
              "      <td>2023-11-06</td>\n",
              "      <td>582.000000</td>\n",
              "      <td>582.500000</td>\n",
              "      <td>573.250000</td>\n",
              "      <td>574.349976</td>\n",
              "      <td>574.349976</td>\n",
              "      <td>16499138.0</td>\n",
              "    </tr>\n",
              "    <tr>\n",
              "      <th>7009</th>\n",
              "      <td>2023-11-07</td>\n",
              "      <td>574.799988</td>\n",
              "      <td>581.200012</td>\n",
              "      <td>572.599976</td>\n",
              "      <td>579.750000</td>\n",
              "      <td>579.750000</td>\n",
              "      <td>17923281.0</td>\n",
              "    </tr>\n",
              "    <tr>\n",
              "      <th>7010</th>\n",
              "      <td>2023-11-08</td>\n",
              "      <td>581.900024</td>\n",
              "      <td>582.599976</td>\n",
              "      <td>579.000000</td>\n",
              "      <td>580.299988</td>\n",
              "      <td>580.299988</td>\n",
              "      <td>15434808.0</td>\n",
              "    </tr>\n",
              "    <tr>\n",
              "      <th>7011</th>\n",
              "      <td>2023-11-09</td>\n",
              "      <td>581.000000</td>\n",
              "      <td>581.849976</td>\n",
              "      <td>576.500000</td>\n",
              "      <td>578.349976</td>\n",
              "      <td>578.349976</td>\n",
              "      <td>12434363.0</td>\n",
              "    </tr>\n",
              "  </tbody>\n",
              "</table>\n",
              "<p>7012 rows × 7 columns</p>\n",
              "</div>\n",
              "    <div class=\"colab-df-buttons\">\n",
              "\n",
              "  <div class=\"colab-df-container\">\n",
              "    <button class=\"colab-df-convert\" onclick=\"convertToInteractive('df-a7fefd09-03ef-496e-933d-7e28308eec00')\"\n",
              "            title=\"Convert this dataframe to an interactive table.\"\n",
              "            style=\"display:none;\">\n",
              "\n",
              "  <svg xmlns=\"http://www.w3.org/2000/svg\" height=\"24px\" viewBox=\"0 -960 960 960\">\n",
              "    <path d=\"M120-120v-720h720v720H120Zm60-500h600v-160H180v160Zm220 220h160v-160H400v160Zm0 220h160v-160H400v160ZM180-400h160v-160H180v160Zm440 0h160v-160H620v160ZM180-180h160v-160H180v160Zm440 0h160v-160H620v160Z\"/>\n",
              "  </svg>\n",
              "    </button>\n",
              "\n",
              "  <style>\n",
              "    .colab-df-container {\n",
              "      display:flex;\n",
              "      gap: 12px;\n",
              "    }\n",
              "\n",
              "    .colab-df-convert {\n",
              "      background-color: #E8F0FE;\n",
              "      border: none;\n",
              "      border-radius: 50%;\n",
              "      cursor: pointer;\n",
              "      display: none;\n",
              "      fill: #1967D2;\n",
              "      height: 32px;\n",
              "      padding: 0 0 0 0;\n",
              "      width: 32px;\n",
              "    }\n",
              "\n",
              "    .colab-df-convert:hover {\n",
              "      background-color: #E2EBFA;\n",
              "      box-shadow: 0px 1px 2px rgba(60, 64, 67, 0.3), 0px 1px 3px 1px rgba(60, 64, 67, 0.15);\n",
              "      fill: #174EA6;\n",
              "    }\n",
              "\n",
              "    .colab-df-buttons div {\n",
              "      margin-bottom: 4px;\n",
              "    }\n",
              "\n",
              "    [theme=dark] .colab-df-convert {\n",
              "      background-color: #3B4455;\n",
              "      fill: #D2E3FC;\n",
              "    }\n",
              "\n",
              "    [theme=dark] .colab-df-convert:hover {\n",
              "      background-color: #434B5C;\n",
              "      box-shadow: 0px 1px 3px 1px rgba(0, 0, 0, 0.15);\n",
              "      filter: drop-shadow(0px 1px 2px rgba(0, 0, 0, 0.3));\n",
              "      fill: #FFFFFF;\n",
              "    }\n",
              "  </style>\n",
              "\n",
              "    <script>\n",
              "      const buttonEl =\n",
              "        document.querySelector('#df-a7fefd09-03ef-496e-933d-7e28308eec00 button.colab-df-convert');\n",
              "      buttonEl.style.display =\n",
              "        google.colab.kernel.accessAllowed ? 'block' : 'none';\n",
              "\n",
              "      async function convertToInteractive(key) {\n",
              "        const element = document.querySelector('#df-a7fefd09-03ef-496e-933d-7e28308eec00');\n",
              "        const dataTable =\n",
              "          await google.colab.kernel.invokeFunction('convertToInteractive',\n",
              "                                                    [key], {});\n",
              "        if (!dataTable) return;\n",
              "\n",
              "        const docLinkHtml = 'Like what you see? Visit the ' +\n",
              "          '<a target=\"_blank\" href=https://colab.research.google.com/notebooks/data_table.ipynb>data table notebook</a>'\n",
              "          + ' to learn more about interactive tables.';\n",
              "        element.innerHTML = '';\n",
              "        dataTable['output_type'] = 'display_data';\n",
              "        await google.colab.output.renderOutput(dataTable, element);\n",
              "        const docLink = document.createElement('div');\n",
              "        docLink.innerHTML = docLinkHtml;\n",
              "        element.appendChild(docLink);\n",
              "      }\n",
              "    </script>\n",
              "  </div>\n",
              "\n",
              "\n",
              "<div id=\"df-3b81ea33-7978-441c-9401-501519ebeb40\">\n",
              "  <button class=\"colab-df-quickchart\" onclick=\"quickchart('df-3b81ea33-7978-441c-9401-501519ebeb40')\"\n",
              "            title=\"Suggest charts\"\n",
              "            style=\"display:none;\">\n",
              "\n",
              "<svg xmlns=\"http://www.w3.org/2000/svg\" height=\"24px\"viewBox=\"0 0 24 24\"\n",
              "     width=\"24px\">\n",
              "    <g>\n",
              "        <path d=\"M19 3H5c-1.1 0-2 .9-2 2v14c0 1.1.9 2 2 2h14c1.1 0 2-.9 2-2V5c0-1.1-.9-2-2-2zM9 17H7v-7h2v7zm4 0h-2V7h2v10zm4 0h-2v-4h2v4z\"/>\n",
              "    </g>\n",
              "</svg>\n",
              "  </button>\n",
              "\n",
              "<style>\n",
              "  .colab-df-quickchart {\n",
              "      --bg-color: #E8F0FE;\n",
              "      --fill-color: #1967D2;\n",
              "      --hover-bg-color: #E2EBFA;\n",
              "      --hover-fill-color: #174EA6;\n",
              "      --disabled-fill-color: #AAA;\n",
              "      --disabled-bg-color: #DDD;\n",
              "  }\n",
              "\n",
              "  [theme=dark] .colab-df-quickchart {\n",
              "      --bg-color: #3B4455;\n",
              "      --fill-color: #D2E3FC;\n",
              "      --hover-bg-color: #434B5C;\n",
              "      --hover-fill-color: #FFFFFF;\n",
              "      --disabled-bg-color: #3B4455;\n",
              "      --disabled-fill-color: #666;\n",
              "  }\n",
              "\n",
              "  .colab-df-quickchart {\n",
              "    background-color: var(--bg-color);\n",
              "    border: none;\n",
              "    border-radius: 50%;\n",
              "    cursor: pointer;\n",
              "    display: none;\n",
              "    fill: var(--fill-color);\n",
              "    height: 32px;\n",
              "    padding: 0;\n",
              "    width: 32px;\n",
              "  }\n",
              "\n",
              "  .colab-df-quickchart:hover {\n",
              "    background-color: var(--hover-bg-color);\n",
              "    box-shadow: 0 1px 2px rgba(60, 64, 67, 0.3), 0 1px 3px 1px rgba(60, 64, 67, 0.15);\n",
              "    fill: var(--button-hover-fill-color);\n",
              "  }\n",
              "\n",
              "  .colab-df-quickchart-complete:disabled,\n",
              "  .colab-df-quickchart-complete:disabled:hover {\n",
              "    background-color: var(--disabled-bg-color);\n",
              "    fill: var(--disabled-fill-color);\n",
              "    box-shadow: none;\n",
              "  }\n",
              "\n",
              "  .colab-df-spinner {\n",
              "    border: 2px solid var(--fill-color);\n",
              "    border-color: transparent;\n",
              "    border-bottom-color: var(--fill-color);\n",
              "    animation:\n",
              "      spin 1s steps(1) infinite;\n",
              "  }\n",
              "\n",
              "  @keyframes spin {\n",
              "    0% {\n",
              "      border-color: transparent;\n",
              "      border-bottom-color: var(--fill-color);\n",
              "      border-left-color: var(--fill-color);\n",
              "    }\n",
              "    20% {\n",
              "      border-color: transparent;\n",
              "      border-left-color: var(--fill-color);\n",
              "      border-top-color: var(--fill-color);\n",
              "    }\n",
              "    30% {\n",
              "      border-color: transparent;\n",
              "      border-left-color: var(--fill-color);\n",
              "      border-top-color: var(--fill-color);\n",
              "      border-right-color: var(--fill-color);\n",
              "    }\n",
              "    40% {\n",
              "      border-color: transparent;\n",
              "      border-right-color: var(--fill-color);\n",
              "      border-top-color: var(--fill-color);\n",
              "    }\n",
              "    60% {\n",
              "      border-color: transparent;\n",
              "      border-right-color: var(--fill-color);\n",
              "    }\n",
              "    80% {\n",
              "      border-color: transparent;\n",
              "      border-right-color: var(--fill-color);\n",
              "      border-bottom-color: var(--fill-color);\n",
              "    }\n",
              "    90% {\n",
              "      border-color: transparent;\n",
              "      border-bottom-color: var(--fill-color);\n",
              "    }\n",
              "  }\n",
              "</style>\n",
              "\n",
              "  <script>\n",
              "    async function quickchart(key) {\n",
              "      const quickchartButtonEl =\n",
              "        document.querySelector('#' + key + ' button');\n",
              "      quickchartButtonEl.disabled = true;  // To prevent multiple clicks.\n",
              "      quickchartButtonEl.classList.add('colab-df-spinner');\n",
              "      try {\n",
              "        const charts = await google.colab.kernel.invokeFunction(\n",
              "            'suggestCharts', [key], {});\n",
              "      } catch (error) {\n",
              "        console.error('Error during call to suggestCharts:', error);\n",
              "      }\n",
              "      quickchartButtonEl.classList.remove('colab-df-spinner');\n",
              "      quickchartButtonEl.classList.add('colab-df-quickchart-complete');\n",
              "    }\n",
              "    (() => {\n",
              "      let quickchartButtonEl =\n",
              "        document.querySelector('#df-3b81ea33-7978-441c-9401-501519ebeb40 button');\n",
              "      quickchartButtonEl.style.display =\n",
              "        google.colab.kernel.accessAllowed ? 'block' : 'none';\n",
              "    })();\n",
              "  </script>\n",
              "</div>\n",
              "    </div>\n",
              "  </div>\n"
            ]
          },
          "metadata": {},
          "execution_count": 39
        }
      ],
      "source": [
        "df= pd.read_csv(\"/content/SBIN.NS.csv\")\n",
        "df"
      ]
    },
    {
      "cell_type": "code",
      "execution_count": 40,
      "metadata": {
        "colab": {
          "base_uri": "https://localhost:8080/"
        },
        "id": "6VkJepTRjFsU",
        "outputId": "dbadd6a3-36e9-4b74-c91d-38a8b79a7f3f"
      },
      "outputs": [
        {
          "output_type": "stream",
          "name": "stdout",
          "text": [
            "<class 'pandas.core.frame.DataFrame'>\n",
            "RangeIndex: 7012 entries, 0 to 7011\n",
            "Data columns (total 7 columns):\n",
            " #   Column     Non-Null Count  Dtype  \n",
            "---  ------     --------------  -----  \n",
            " 0   Date       7012 non-null   object \n",
            " 1   Open       7003 non-null   float64\n",
            " 2   High       7003 non-null   float64\n",
            " 3   Low        7003 non-null   float64\n",
            " 4   Close      7003 non-null   float64\n",
            " 5   Adj Close  7003 non-null   float64\n",
            " 6   Volume     7003 non-null   float64\n",
            "dtypes: float64(6), object(1)\n",
            "memory usage: 383.6+ KB\n"
          ]
        }
      ],
      "source": [
        "df.info()"
      ]
    },
    {
      "cell_type": "code",
      "execution_count": 41,
      "metadata": {
        "colab": {
          "base_uri": "https://localhost:8080/",
          "height": 423
        },
        "id": "-O9TCHQKiwBI",
        "outputId": "1364e773-26f9-4248-d73e-aea328c06bec"
      },
      "outputs": [
        {
          "output_type": "execute_result",
          "data": {
            "text/plain": [
              "            Date        Open        High         Low       Close   Adj Close  \\\n",
              "0     1996-01-01   18.691147   18.978922   18.540184   18.823240   12.409932   \n",
              "1     1996-01-02   18.894005   18.964767   17.738192   18.224106   12.014932   \n",
              "2     1996-01-03   18.327892   18.568489   17.643839   17.738192   11.694572   \n",
              "3     1996-01-04   17.502312   17.832542   17.223972   17.676863   11.654138   \n",
              "4     1996-01-05   17.738192   17.785366   17.459852   17.577793   11.588826   \n",
              "...          ...         ...         ...         ...         ...         ...   \n",
              "7007  2023-11-03  576.000000  579.500000  573.450012  578.150024  578.150024   \n",
              "7008  2023-11-06  582.000000  582.500000  573.250000  574.349976  574.349976   \n",
              "7009  2023-11-07  574.799988  581.200012  572.599976  579.750000  579.750000   \n",
              "7010  2023-11-08  581.900024  582.599976  579.000000  580.299988  580.299988   \n",
              "7011  2023-11-09  581.000000  581.849976  576.500000  578.349976  578.349976   \n",
              "\n",
              "          Volume  \n",
              "0     43733533.0  \n",
              "1     56167280.0  \n",
              "2     68296318.0  \n",
              "3     86073880.0  \n",
              "4     76613039.0  \n",
              "...          ...  \n",
              "7007  11371371.0  \n",
              "7008  16499138.0  \n",
              "7009  17923281.0  \n",
              "7010  15434808.0  \n",
              "7011  12434363.0  \n",
              "\n",
              "[7003 rows x 7 columns]"
            ],
            "text/html": [
              "\n",
              "  <div id=\"df-8b3911b6-2fe7-4a48-8d97-8ab2fecd55af\" class=\"colab-df-container\">\n",
              "    <div>\n",
              "<style scoped>\n",
              "    .dataframe tbody tr th:only-of-type {\n",
              "        vertical-align: middle;\n",
              "    }\n",
              "\n",
              "    .dataframe tbody tr th {\n",
              "        vertical-align: top;\n",
              "    }\n",
              "\n",
              "    .dataframe thead th {\n",
              "        text-align: right;\n",
              "    }\n",
              "</style>\n",
              "<table border=\"1\" class=\"dataframe\">\n",
              "  <thead>\n",
              "    <tr style=\"text-align: right;\">\n",
              "      <th></th>\n",
              "      <th>Date</th>\n",
              "      <th>Open</th>\n",
              "      <th>High</th>\n",
              "      <th>Low</th>\n",
              "      <th>Close</th>\n",
              "      <th>Adj Close</th>\n",
              "      <th>Volume</th>\n",
              "    </tr>\n",
              "  </thead>\n",
              "  <tbody>\n",
              "    <tr>\n",
              "      <th>0</th>\n",
              "      <td>1996-01-01</td>\n",
              "      <td>18.691147</td>\n",
              "      <td>18.978922</td>\n",
              "      <td>18.540184</td>\n",
              "      <td>18.823240</td>\n",
              "      <td>12.409932</td>\n",
              "      <td>43733533.0</td>\n",
              "    </tr>\n",
              "    <tr>\n",
              "      <th>1</th>\n",
              "      <td>1996-01-02</td>\n",
              "      <td>18.894005</td>\n",
              "      <td>18.964767</td>\n",
              "      <td>17.738192</td>\n",
              "      <td>18.224106</td>\n",
              "      <td>12.014932</td>\n",
              "      <td>56167280.0</td>\n",
              "    </tr>\n",
              "    <tr>\n",
              "      <th>2</th>\n",
              "      <td>1996-01-03</td>\n",
              "      <td>18.327892</td>\n",
              "      <td>18.568489</td>\n",
              "      <td>17.643839</td>\n",
              "      <td>17.738192</td>\n",
              "      <td>11.694572</td>\n",
              "      <td>68296318.0</td>\n",
              "    </tr>\n",
              "    <tr>\n",
              "      <th>3</th>\n",
              "      <td>1996-01-04</td>\n",
              "      <td>17.502312</td>\n",
              "      <td>17.832542</td>\n",
              "      <td>17.223972</td>\n",
              "      <td>17.676863</td>\n",
              "      <td>11.654138</td>\n",
              "      <td>86073880.0</td>\n",
              "    </tr>\n",
              "    <tr>\n",
              "      <th>4</th>\n",
              "      <td>1996-01-05</td>\n",
              "      <td>17.738192</td>\n",
              "      <td>17.785366</td>\n",
              "      <td>17.459852</td>\n",
              "      <td>17.577793</td>\n",
              "      <td>11.588826</td>\n",
              "      <td>76613039.0</td>\n",
              "    </tr>\n",
              "    <tr>\n",
              "      <th>...</th>\n",
              "      <td>...</td>\n",
              "      <td>...</td>\n",
              "      <td>...</td>\n",
              "      <td>...</td>\n",
              "      <td>...</td>\n",
              "      <td>...</td>\n",
              "      <td>...</td>\n",
              "    </tr>\n",
              "    <tr>\n",
              "      <th>7007</th>\n",
              "      <td>2023-11-03</td>\n",
              "      <td>576.000000</td>\n",
              "      <td>579.500000</td>\n",
              "      <td>573.450012</td>\n",
              "      <td>578.150024</td>\n",
              "      <td>578.150024</td>\n",
              "      <td>11371371.0</td>\n",
              "    </tr>\n",
              "    <tr>\n",
              "      <th>7008</th>\n",
              "      <td>2023-11-06</td>\n",
              "      <td>582.000000</td>\n",
              "      <td>582.500000</td>\n",
              "      <td>573.250000</td>\n",
              "      <td>574.349976</td>\n",
              "      <td>574.349976</td>\n",
              "      <td>16499138.0</td>\n",
              "    </tr>\n",
              "    <tr>\n",
              "      <th>7009</th>\n",
              "      <td>2023-11-07</td>\n",
              "      <td>574.799988</td>\n",
              "      <td>581.200012</td>\n",
              "      <td>572.599976</td>\n",
              "      <td>579.750000</td>\n",
              "      <td>579.750000</td>\n",
              "      <td>17923281.0</td>\n",
              "    </tr>\n",
              "    <tr>\n",
              "      <th>7010</th>\n",
              "      <td>2023-11-08</td>\n",
              "      <td>581.900024</td>\n",
              "      <td>582.599976</td>\n",
              "      <td>579.000000</td>\n",
              "      <td>580.299988</td>\n",
              "      <td>580.299988</td>\n",
              "      <td>15434808.0</td>\n",
              "    </tr>\n",
              "    <tr>\n",
              "      <th>7011</th>\n",
              "      <td>2023-11-09</td>\n",
              "      <td>581.000000</td>\n",
              "      <td>581.849976</td>\n",
              "      <td>576.500000</td>\n",
              "      <td>578.349976</td>\n",
              "      <td>578.349976</td>\n",
              "      <td>12434363.0</td>\n",
              "    </tr>\n",
              "  </tbody>\n",
              "</table>\n",
              "<p>7003 rows × 7 columns</p>\n",
              "</div>\n",
              "    <div class=\"colab-df-buttons\">\n",
              "\n",
              "  <div class=\"colab-df-container\">\n",
              "    <button class=\"colab-df-convert\" onclick=\"convertToInteractive('df-8b3911b6-2fe7-4a48-8d97-8ab2fecd55af')\"\n",
              "            title=\"Convert this dataframe to an interactive table.\"\n",
              "            style=\"display:none;\">\n",
              "\n",
              "  <svg xmlns=\"http://www.w3.org/2000/svg\" height=\"24px\" viewBox=\"0 -960 960 960\">\n",
              "    <path d=\"M120-120v-720h720v720H120Zm60-500h600v-160H180v160Zm220 220h160v-160H400v160Zm0 220h160v-160H400v160ZM180-400h160v-160H180v160Zm440 0h160v-160H620v160ZM180-180h160v-160H180v160Zm440 0h160v-160H620v160Z\"/>\n",
              "  </svg>\n",
              "    </button>\n",
              "\n",
              "  <style>\n",
              "    .colab-df-container {\n",
              "      display:flex;\n",
              "      gap: 12px;\n",
              "    }\n",
              "\n",
              "    .colab-df-convert {\n",
              "      background-color: #E8F0FE;\n",
              "      border: none;\n",
              "      border-radius: 50%;\n",
              "      cursor: pointer;\n",
              "      display: none;\n",
              "      fill: #1967D2;\n",
              "      height: 32px;\n",
              "      padding: 0 0 0 0;\n",
              "      width: 32px;\n",
              "    }\n",
              "\n",
              "    .colab-df-convert:hover {\n",
              "      background-color: #E2EBFA;\n",
              "      box-shadow: 0px 1px 2px rgba(60, 64, 67, 0.3), 0px 1px 3px 1px rgba(60, 64, 67, 0.15);\n",
              "      fill: #174EA6;\n",
              "    }\n",
              "\n",
              "    .colab-df-buttons div {\n",
              "      margin-bottom: 4px;\n",
              "    }\n",
              "\n",
              "    [theme=dark] .colab-df-convert {\n",
              "      background-color: #3B4455;\n",
              "      fill: #D2E3FC;\n",
              "    }\n",
              "\n",
              "    [theme=dark] .colab-df-convert:hover {\n",
              "      background-color: #434B5C;\n",
              "      box-shadow: 0px 1px 3px 1px rgba(0, 0, 0, 0.15);\n",
              "      filter: drop-shadow(0px 1px 2px rgba(0, 0, 0, 0.3));\n",
              "      fill: #FFFFFF;\n",
              "    }\n",
              "  </style>\n",
              "\n",
              "    <script>\n",
              "      const buttonEl =\n",
              "        document.querySelector('#df-8b3911b6-2fe7-4a48-8d97-8ab2fecd55af button.colab-df-convert');\n",
              "      buttonEl.style.display =\n",
              "        google.colab.kernel.accessAllowed ? 'block' : 'none';\n",
              "\n",
              "      async function convertToInteractive(key) {\n",
              "        const element = document.querySelector('#df-8b3911b6-2fe7-4a48-8d97-8ab2fecd55af');\n",
              "        const dataTable =\n",
              "          await google.colab.kernel.invokeFunction('convertToInteractive',\n",
              "                                                    [key], {});\n",
              "        if (!dataTable) return;\n",
              "\n",
              "        const docLinkHtml = 'Like what you see? Visit the ' +\n",
              "          '<a target=\"_blank\" href=https://colab.research.google.com/notebooks/data_table.ipynb>data table notebook</a>'\n",
              "          + ' to learn more about interactive tables.';\n",
              "        element.innerHTML = '';\n",
              "        dataTable['output_type'] = 'display_data';\n",
              "        await google.colab.output.renderOutput(dataTable, element);\n",
              "        const docLink = document.createElement('div');\n",
              "        docLink.innerHTML = docLinkHtml;\n",
              "        element.appendChild(docLink);\n",
              "      }\n",
              "    </script>\n",
              "  </div>\n",
              "\n",
              "\n",
              "<div id=\"df-c954e92f-cdbe-4ae5-aec8-9f5a55157bd1\">\n",
              "  <button class=\"colab-df-quickchart\" onclick=\"quickchart('df-c954e92f-cdbe-4ae5-aec8-9f5a55157bd1')\"\n",
              "            title=\"Suggest charts\"\n",
              "            style=\"display:none;\">\n",
              "\n",
              "<svg xmlns=\"http://www.w3.org/2000/svg\" height=\"24px\"viewBox=\"0 0 24 24\"\n",
              "     width=\"24px\">\n",
              "    <g>\n",
              "        <path d=\"M19 3H5c-1.1 0-2 .9-2 2v14c0 1.1.9 2 2 2h14c1.1 0 2-.9 2-2V5c0-1.1-.9-2-2-2zM9 17H7v-7h2v7zm4 0h-2V7h2v10zm4 0h-2v-4h2v4z\"/>\n",
              "    </g>\n",
              "</svg>\n",
              "  </button>\n",
              "\n",
              "<style>\n",
              "  .colab-df-quickchart {\n",
              "      --bg-color: #E8F0FE;\n",
              "      --fill-color: #1967D2;\n",
              "      --hover-bg-color: #E2EBFA;\n",
              "      --hover-fill-color: #174EA6;\n",
              "      --disabled-fill-color: #AAA;\n",
              "      --disabled-bg-color: #DDD;\n",
              "  }\n",
              "\n",
              "  [theme=dark] .colab-df-quickchart {\n",
              "      --bg-color: #3B4455;\n",
              "      --fill-color: #D2E3FC;\n",
              "      --hover-bg-color: #434B5C;\n",
              "      --hover-fill-color: #FFFFFF;\n",
              "      --disabled-bg-color: #3B4455;\n",
              "      --disabled-fill-color: #666;\n",
              "  }\n",
              "\n",
              "  .colab-df-quickchart {\n",
              "    background-color: var(--bg-color);\n",
              "    border: none;\n",
              "    border-radius: 50%;\n",
              "    cursor: pointer;\n",
              "    display: none;\n",
              "    fill: var(--fill-color);\n",
              "    height: 32px;\n",
              "    padding: 0;\n",
              "    width: 32px;\n",
              "  }\n",
              "\n",
              "  .colab-df-quickchart:hover {\n",
              "    background-color: var(--hover-bg-color);\n",
              "    box-shadow: 0 1px 2px rgba(60, 64, 67, 0.3), 0 1px 3px 1px rgba(60, 64, 67, 0.15);\n",
              "    fill: var(--button-hover-fill-color);\n",
              "  }\n",
              "\n",
              "  .colab-df-quickchart-complete:disabled,\n",
              "  .colab-df-quickchart-complete:disabled:hover {\n",
              "    background-color: var(--disabled-bg-color);\n",
              "    fill: var(--disabled-fill-color);\n",
              "    box-shadow: none;\n",
              "  }\n",
              "\n",
              "  .colab-df-spinner {\n",
              "    border: 2px solid var(--fill-color);\n",
              "    border-color: transparent;\n",
              "    border-bottom-color: var(--fill-color);\n",
              "    animation:\n",
              "      spin 1s steps(1) infinite;\n",
              "  }\n",
              "\n",
              "  @keyframes spin {\n",
              "    0% {\n",
              "      border-color: transparent;\n",
              "      border-bottom-color: var(--fill-color);\n",
              "      border-left-color: var(--fill-color);\n",
              "    }\n",
              "    20% {\n",
              "      border-color: transparent;\n",
              "      border-left-color: var(--fill-color);\n",
              "      border-top-color: var(--fill-color);\n",
              "    }\n",
              "    30% {\n",
              "      border-color: transparent;\n",
              "      border-left-color: var(--fill-color);\n",
              "      border-top-color: var(--fill-color);\n",
              "      border-right-color: var(--fill-color);\n",
              "    }\n",
              "    40% {\n",
              "      border-color: transparent;\n",
              "      border-right-color: var(--fill-color);\n",
              "      border-top-color: var(--fill-color);\n",
              "    }\n",
              "    60% {\n",
              "      border-color: transparent;\n",
              "      border-right-color: var(--fill-color);\n",
              "    }\n",
              "    80% {\n",
              "      border-color: transparent;\n",
              "      border-right-color: var(--fill-color);\n",
              "      border-bottom-color: var(--fill-color);\n",
              "    }\n",
              "    90% {\n",
              "      border-color: transparent;\n",
              "      border-bottom-color: var(--fill-color);\n",
              "    }\n",
              "  }\n",
              "</style>\n",
              "\n",
              "  <script>\n",
              "    async function quickchart(key) {\n",
              "      const quickchartButtonEl =\n",
              "        document.querySelector('#' + key + ' button');\n",
              "      quickchartButtonEl.disabled = true;  // To prevent multiple clicks.\n",
              "      quickchartButtonEl.classList.add('colab-df-spinner');\n",
              "      try {\n",
              "        const charts = await google.colab.kernel.invokeFunction(\n",
              "            'suggestCharts', [key], {});\n",
              "      } catch (error) {\n",
              "        console.error('Error during call to suggestCharts:', error);\n",
              "      }\n",
              "      quickchartButtonEl.classList.remove('colab-df-spinner');\n",
              "      quickchartButtonEl.classList.add('colab-df-quickchart-complete');\n",
              "    }\n",
              "    (() => {\n",
              "      let quickchartButtonEl =\n",
              "        document.querySelector('#df-c954e92f-cdbe-4ae5-aec8-9f5a55157bd1 button');\n",
              "      quickchartButtonEl.style.display =\n",
              "        google.colab.kernel.accessAllowed ? 'block' : 'none';\n",
              "    })();\n",
              "  </script>\n",
              "</div>\n",
              "    </div>\n",
              "  </div>\n"
            ]
          },
          "metadata": {},
          "execution_count": 41
        }
      ],
      "source": [
        "#very few nan values so we drop them\n",
        "df = df.dropna()\n",
        "df"
      ]
    },
    {
      "cell_type": "code",
      "execution_count": 42,
      "metadata": {
        "colab": {
          "base_uri": "https://localhost:8080/"
        },
        "id": "Mxw-GEXpM6S5",
        "outputId": "caa02c63-b125-475b-b2d3-aba106539ec5"
      },
      "outputs": [
        {
          "output_type": "execute_result",
          "data": {
            "text/plain": [
              "0        18.691147\n",
              "1        18.894005\n",
              "2        18.327892\n",
              "3        17.502312\n",
              "4        17.738192\n",
              "           ...    \n",
              "7007    576.000000\n",
              "7008    582.000000\n",
              "7009    574.799988\n",
              "7010    581.900024\n",
              "7011    581.000000\n",
              "Name: Open, Length: 7003, dtype: float64"
            ]
          },
          "metadata": {},
          "execution_count": 42
        }
      ],
      "source": [
        "#we try to predict the opening price for next day, this can be done for High,Low,Close,Adj Close and Volume also\n",
        "open_series=df['Open']\n",
        "open_series"
      ]
    },
    {
      "cell_type": "code",
      "execution_count": 43,
      "metadata": {
        "colab": {
          "base_uri": "https://localhost:8080/",
          "height": 447
        },
        "id": "tk0RBe4BN1Ya",
        "outputId": "4910398a-47a2-4980-ad7a-13b8db3e4721"
      },
      "outputs": [
        {
          "output_type": "execute_result",
          "data": {
            "text/plain": [
              "[<matplotlib.lines.Line2D at 0x7eeadee56740>]"
            ]
          },
          "metadata": {},
          "execution_count": 43
        },
        {
          "output_type": "display_data",
          "data": {
            "text/plain": [
              "<Figure size 640x480 with 1 Axes>"
            ],
            "image/png": "[encoded data removed]"
          },
          "metadata": {}
        }
      ],
      "source": [
        "plt.plot(open_series)"
      ]
    },
    {
      "cell_type": "code",
      "execution_count": 44,
      "metadata": {
        "colab": {
          "base_uri": "https://localhost:8080/"
        },
        "id": "4uRoApQlOFt7",
        "outputId": "25369a54-829e-4e26-da56-7e0d623be5c6"
      },
      "outputs": [
        {
          "output_type": "execute_result",
          "data": {
            "text/plain": [
              "array([[0.0085169 ],\n",
              "       [0.00884832],\n",
              "       [0.00792341],\n",
              "       ...,\n",
              "       [0.91708489],\n",
              "       [0.9286849 ],\n",
              "       [0.92721444]])"
            ]
          },
          "metadata": {},
          "execution_count": 44
        }
      ],
      "source": [
        "#Since LSTM is sensitive to the scale of the data, we apply MinMax Scaler\n",
        "from sklearn.preprocessing import MinMaxScaler\n",
        "scaler=MinMaxScaler()\n",
        "open_array=scaler.fit_transform(np.array(open_series).reshape(-1,1))\n",
        "open_array"
      ]
    },
    {
      "cell_type": "code",
      "execution_count": 45,
      "metadata": {
        "colab": {
          "base_uri": "https://localhost:8080/"
        },
        "id": "tKYHdHXnQQDV",
        "outputId": "e23a9d35-c667-421a-aab5-0a1a80bad7fc"
      },
      "outputs": [
        {
          "output_type": "execute_result",
          "data": {
            "text/plain": [
              "5602"
            ]
          },
          "metadata": {},
          "execution_count": 45
        }
      ],
      "source": [
        "#Now, we split the data into training and testing set\n",
        "training_size= int(len(open_array)*0.80)\n",
        "training_size"
      ]
    },
    {
      "cell_type": "code",
      "execution_count": 46,
      "metadata": {
        "colab": {
          "base_uri": "https://localhost:8080/"
        },
        "id": "oZ6HtEn-RVyA",
        "outputId": "6a149ce0-87a9-4bab-ea9a-2abf53dbcf42"
      },
      "outputs": [
        {
          "output_type": "execute_result",
          "data": {
            "text/plain": [
              "1401"
            ]
          },
          "metadata": {},
          "execution_count": 46
        }
      ],
      "source": [
        "test_size=len(open_array)-training_size\n",
        "test_size"
      ]
    },
    {
      "cell_type": "code",
      "execution_count": 47,
      "metadata": {
        "colab": {
          "base_uri": "https://localhost:8080/"
        },
        "id": "PGn29FsvR82G",
        "outputId": "1f4fda4d-bc75-4413-ed6f-e5a00b3a784b"
      },
      "outputs": [
        {
          "output_type": "execute_result",
          "data": {
            "text/plain": [
              "array([[0.0085169 ],\n",
              "       [0.00884832],\n",
              "       [0.00792341],\n",
              "       ...,\n",
              "       [0.39467888],\n",
              "       [0.38152682],\n",
              "       [0.39786477]])"
            ]
          },
          "metadata": {},
          "execution_count": 47
        }
      ],
      "source": [
        "training_data=open_array[:training_size,:]\n",
        "training_data"
      ]
    },
    {
      "cell_type": "code",
      "execution_count": 48,
      "metadata": {
        "colab": {
          "base_uri": "https://localhost:8080/"
        },
        "id": "KzcJDGtHSWpO",
        "outputId": "1e06b619-30cd-4615-c42d-882d97ffe6bc"
      },
      "outputs": [
        {
          "output_type": "execute_result",
          "data": {
            "text/plain": [
              "array([[0.39312678],\n",
              "       [0.38855214],\n",
              "       [0.39051269],\n",
              "       ...,\n",
              "       [0.91708489],\n",
              "       [0.9286849 ],\n",
              "       [0.92721444]])"
            ]
          },
          "metadata": {},
          "execution_count": 48
        }
      ],
      "source": [
        "test_data=open_array[training_size:len(open_array),:1]\n",
        "test_data"
      ]
    },
    {
      "cell_type": "code",
      "execution_count": 49,
      "metadata": {
        "id": "NzqvAsR1SnRw"
      },
      "outputs": [],
      "source": [
        "#Now we create a input dataset for LSTM, for each new prediction we want LSTM to consider previous 50 values.\n",
        "def create_dataset(dataset, time_step=50):\n",
        "\tdataX, dataY = [], []\n",
        "\tfor i in range(len(dataset)-time_step-1):\n",
        "\t\ta = dataset[i:(i+time_step), 0]   ###i=0, 0,1,2,3-----49   50\n",
        "\t\tdataX.append(a)\n",
        "\t\tdataY.append(dataset[i + time_step, 0])\n",
        "\treturn np.array(dataX), np.array(dataY)"
      ]
    },
    {
      "cell_type": "code",
      "execution_count": 50,
      "metadata": {
        "id": "T2DDyCk1UFSe"
      },
      "outputs": [],
      "source": [
        "# reshape into X=t,t+1,t+2,t+3...t+49 and Y=t+50\n",
        "time_step = 50\n",
        "X_train, y_train = create_dataset(training_data, time_step)\n",
        "X_test, y_test = create_dataset(test_data, time_step)"
      ]
    },
    {
      "cell_type": "code",
      "execution_count": 51,
      "metadata": {
        "colab": {
          "base_uri": "https://localhost:8080/"
        },
        "id": "SVAxRjZ4Uc5a",
        "outputId": "4223de9a-a74c-4fb6-9ea7-65b30087cc91"
      },
      "outputs": [
        {
          "output_type": "stream",
          "name": "stdout",
          "text": [
            "(5551, 50)\n",
            "(5551,)\n",
            "(1350, 50)\n",
            "(1350,)\n"
          ]
        }
      ],
      "source": [
        "print(X_train.shape)\n",
        "print(y_train.shape)\n",
        "print(X_test.shape)\n",
        "print(y_test.shape)"
      ]
    },
    {
      "cell_type": "code",
      "execution_count": 52,
      "metadata": {
        "id": "rY5EsmKsVTgZ"
      },
      "outputs": [],
      "source": [
        "#The LSTM recieves the input in the format (training_size,time_step,No_of_features)\n",
        "X_train =X_train.reshape(X_train.shape[0],X_train.shape[1] , 1)\n",
        "X_test = X_test.reshape(X_test.shape[0],X_test.shape[1] , 1)"
      ]
    },
    {
      "cell_type": "code",
      "execution_count": 53,
      "metadata": {
        "colab": {
          "base_uri": "https://localhost:8080/"
        },
        "id": "-fEotmXhW5yf",
        "outputId": "0f5c6818-c1bd-42e1-b1d0-14c2a8cb305c"
      },
      "outputs": [
        {
          "output_type": "stream",
          "name": "stdout",
          "text": [
            "(5551, 50, 1)\n",
            "(1350, 50, 1)\n"
          ]
        }
      ],
      "source": [
        "print(X_train.shape)\n",
        "print(X_test.shape)"
      ]
    },
    {
      "cell_type": "code",
      "execution_count": 54,
      "metadata": {
        "id": "F2lKu46pXAkA"
      },
      "outputs": [],
      "source": [
        "#Stacked_LSTM model\n",
        "model = Sequential()\n",
        "model.add(LSTM(50,kernel_regularizer=l2(0.1),return_sequences=True,input_shape=(50,1)))\n",
        "model.add(Dropout(0.5))\n",
        "model.add(LSTM(50,kernel_regularizer=l2(0.1),return_sequences=True))\n",
        "model.add(Dropout(0.5))\n",
        "model.add(LSTM(50))\n",
        "model.add(Dense(1))\n",
        "model.compile(loss='mean_squared_error',optimizer='adam')"
      ]
    },
    {
      "cell_type": "code",
      "execution_count": 55,
      "metadata": {
        "colab": {
          "base_uri": "https://localhost:8080/"
        },
        "id": "kTD7OqnZYBY_",
        "outputId": "dfeae87a-c63c-44ba-f238-20d20f6d720f"
      },
      "outputs": [
        {
          "output_type": "stream",
          "name": "stdout",
          "text": [
            "Model: \"sequential_1\"\n",
            "_________________________________________________________________\n",
            " Layer (type)                Output Shape              Param #   \n",
            "=================================================================\n",
            " lstm_3 (LSTM)               (None, 50, 50)            10400     \n",
            "                                                                 \n",
            " dropout_2 (Dropout)         (None, 50, 50)            0         \n",
            "                                                                 \n",
            " lstm_4 (LSTM)               (None, 50, 50)            20200     \n",
            "                                                                 \n",
            " dropout_3 (Dropout)         (None, 50, 50)            0         \n",
            "                                                                 \n",
            " lstm_5 (LSTM)               (None, 50)                20200     \n",
            "                                                                 \n",
            " dense_1 (Dense)             (None, 1)                 51        \n",
            "                                                                 \n",
            "=================================================================\n",
            "Total params: 50851 (198.64 KB)\n",
            "Trainable params: 50851 (198.64 KB)\n",
            "Non-trainable params: 0 (0.00 Byte)\n",
            "_________________________________________________________________\n"
          ]
        }
      ],
      "source": [
        "model.summary()"
      ]
    },
    {
      "cell_type": "code",
      "execution_count": 56,
      "metadata": {
        "colab": {
          "base_uri": "https://localhost:8080/"
        },
        "id": "y63381CHYIk5",
        "outputId": "9a0acb3e-de4b-400f-9f88-ee88626791ae"
      },
      "outputs": [
        {
          "output_type": "stream",
          "name": "stdout",
          "text": [
            "Epoch 1/50\n",
            "112/112 [==============================] - 7s 23ms/step - loss: 3.1972 - val_loss: 0.6316\n",
            "Epoch 2/50\n",
            "112/112 [==============================] - 2s 17ms/step - loss: 0.1945 - val_loss: 0.0599\n",
            "Epoch 3/50\n",
            "112/112 [==============================] - 2s 14ms/step - loss: 0.0077 - val_loss: 0.0398\n",
            "Epoch 4/50\n",
            "112/112 [==============================] - 1s 12ms/step - loss: 0.0025 - val_loss: 0.0498\n",
            "Epoch 5/50\n",
            "112/112 [==============================] - 1s 11ms/step - loss: 0.0022 - val_loss: 0.0533\n",
            "Epoch 6/50\n",
            "112/112 [==============================] - 1s 11ms/step - loss: 0.0020 - val_loss: 0.0492\n",
            "Epoch 7/50\n",
            "112/112 [==============================] - 1s 11ms/step - loss: 0.0023 - val_loss: 0.0696\n",
            "Epoch 8/50\n",
            "112/112 [==============================] - 1s 11ms/step - loss: 0.0023 - val_loss: 0.0517\n",
            "Epoch 9/50\n",
            "112/112 [==============================] - 1s 11ms/step - loss: 0.0019 - val_loss: 0.0312\n",
            "Epoch 10/50\n",
            "112/112 [==============================] - 1s 11ms/step - loss: 0.0022 - val_loss: 0.0248\n",
            "Epoch 11/50\n",
            "112/112 [==============================] - 1s 13ms/step - loss: 0.0022 - val_loss: 0.0420\n",
            "Epoch 12/50\n",
            "112/112 [==============================] - 2s 15ms/step - loss: 0.0020 - val_loss: 0.0307\n",
            "Epoch 13/50\n",
            "112/112 [==============================] - 2s 14ms/step - loss: 0.0019 - val_loss: 0.0436\n",
            "Epoch 14/50\n",
            "112/112 [==============================] - 1s 11ms/step - loss: 0.0022 - val_loss: 0.0253\n",
            "Epoch 15/50\n",
            "112/112 [==============================] - 1s 11ms/step - loss: 0.0018 - val_loss: 0.0214\n",
            "Epoch 16/50\n",
            "112/112 [==============================] - 1s 11ms/step - loss: 0.0019 - val_loss: 0.0335\n",
            "Epoch 17/50\n",
            "112/112 [==============================] - 1s 11ms/step - loss: 0.0017 - val_loss: 0.0716\n",
            "Epoch 18/50\n",
            "112/112 [==============================] - 1s 11ms/step - loss: 0.0019 - val_loss: 0.0440\n",
            "Epoch 19/50\n",
            "112/112 [==============================] - 1s 11ms/step - loss: 0.0021 - val_loss: 0.0863\n",
            "Epoch 20/50\n",
            "112/112 [==============================] - 1s 11ms/step - loss: 0.0016 - val_loss: 0.0552\n",
            "Epoch 21/50\n",
            "112/112 [==============================] - 1s 12ms/step - loss: 0.0015 - val_loss: 0.0480\n",
            "Epoch 22/50\n",
            "112/112 [==============================] - 2s 15ms/step - loss: 0.0017 - val_loss: 0.1028\n",
            "Epoch 23/50\n",
            "112/112 [==============================] - 2s 15ms/step - loss: 0.0017 - val_loss: 0.0614\n",
            "Epoch 24/50\n",
            "112/112 [==============================] - 1s 11ms/step - loss: 0.0015 - val_loss: 0.0514\n",
            "Epoch 25/50\n",
            "112/112 [==============================] - 1s 12ms/step - loss: 0.0014 - val_loss: 0.0513\n",
            "Epoch 26/50\n",
            "112/112 [==============================] - 1s 11ms/step - loss: 0.0015 - val_loss: 0.0116\n",
            "Epoch 27/50\n",
            "112/112 [==============================] - 1s 11ms/step - loss: 0.0017 - val_loss: 0.0418\n",
            "Epoch 28/50\n",
            "112/112 [==============================] - 1s 11ms/step - loss: 0.0014 - val_loss: 0.0380\n",
            "Epoch 29/50\n",
            "112/112 [==============================] - 1s 11ms/step - loss: 0.0015 - val_loss: 0.0415\n",
            "Epoch 30/50\n",
            "112/112 [==============================] - 1s 11ms/step - loss: 0.0013 - val_loss: 0.0652\n",
            "Epoch 31/50\n",
            "112/112 [==============================] - 1s 11ms/step - loss: 0.0016 - val_loss: 0.0392\n",
            "Epoch 32/50\n",
            "112/112 [==============================] - 2s 15ms/step - loss: 0.0013 - val_loss: 0.0214\n",
            "Epoch 33/50\n",
            "112/112 [==============================] - 2s 16ms/step - loss: 0.0014 - val_loss: 0.0417\n",
            "Epoch 34/50\n",
            "112/112 [==============================] - 1s 12ms/step - loss: 0.0017 - val_loss: 0.0458\n",
            "Epoch 35/50\n",
            "112/112 [==============================] - 1s 11ms/step - loss: 0.0013 - val_loss: 0.0368\n",
            "Epoch 36/50\n",
            "112/112 [==============================] - 1s 11ms/step - loss: 0.0013 - val_loss: 0.0426\n",
            "Epoch 37/50\n",
            "112/112 [==============================] - 1s 11ms/step - loss: 0.0015 - val_loss: 0.0247\n",
            "Epoch 38/50\n",
            "112/112 [==============================] - 1s 11ms/step - loss: 0.0015 - val_loss: 0.0326\n",
            "Epoch 39/50\n",
            "112/112 [==============================] - 1s 11ms/step - loss: 0.0011 - val_loss: 0.0155\n",
            "Epoch 40/50\n",
            "112/112 [==============================] - 1s 11ms/step - loss: 0.0012 - val_loss: 0.0333\n",
            "Epoch 41/50\n",
            "112/112 [==============================] - 1s 11ms/step - loss: 0.0012 - val_loss: 0.0333\n",
            "Epoch 42/50\n",
            "112/112 [==============================] - 2s 15ms/step - loss: 0.0012 - val_loss: 0.0449\n",
            "Epoch 43/50\n",
            "112/112 [==============================] - 2s 16ms/step - loss: 0.0012 - val_loss: 0.0221\n",
            "Epoch 44/50\n",
            "112/112 [==============================] - 1s 13ms/step - loss: 0.0018 - val_loss: 0.0424\n",
            "Epoch 45/50\n",
            "112/112 [==============================] - 1s 11ms/step - loss: 0.0012 - val_loss: 0.0331\n",
            "Epoch 46/50\n",
            "112/112 [==============================] - 1s 12ms/step - loss: 0.0011 - val_loss: 0.0290\n",
            "Epoch 47/50\n",
            "112/112 [==============================] - 1s 12ms/step - loss: 0.0018 - val_loss: 0.0216\n",
            "Epoch 48/50\n",
            "112/112 [==============================] - 1s 12ms/step - loss: 0.0012 - val_loss: 0.0204\n",
            "Epoch 49/50\n",
            "112/112 [==============================] - 1s 11ms/step - loss: 0.0011 - val_loss: 0.0246\n",
            "Epoch 50/50\n",
            "112/112 [==============================] - 1s 11ms/step - loss: 0.0011 - val_loss: 0.0258\n"
          ]
        },
        {
          "output_type": "execute_result",
          "data": {
            "text/plain": [
              "<keras.src.callbacks.History at 0x7eeadeacf640>"
            ]
          },
          "metadata": {},
          "execution_count": 56
        }
      ],
      "source": [
        "model.fit(X_train,y_train,validation_data=(X_test,y_test),epochs=50,batch_size=50,verbose=1)"
      ]
    },
    {
      "cell_type": "code",
      "execution_count": 57,
      "metadata": {
        "colab": {
          "base_uri": "https://localhost:8080/"
        },
        "id": "8xc3T74mY_iq",
        "outputId": "72058e0e-4b8e-4f55-b66a-bbfbfd554f40"
      },
      "outputs": [
        {
          "output_type": "stream",
          "name": "stdout",
          "text": [
            "174/174 [==============================] - 2s 5ms/step\n",
            "43/43 [==============================] - 0s 6ms/step\n"
          ]
        }
      ],
      "source": [
        "# Lets Do the prediction and check performance metrics\n",
        "train_predict=model.predict(X_train)\n",
        "test_predict=model.predict(X_test)"
      ]
    },
    {
      "cell_type": "code",
      "execution_count": 58,
      "metadata": {
        "id": "QoYPVg6Jkz93"
      },
      "outputs": [],
      "source": [
        "# Transformback to original form\n",
        "train_predict=scaler.inverse_transform(train_predict)\n",
        "test_predict=scaler.inverse_transform(test_predict)"
      ]
    },
    {
      "cell_type": "code",
      "execution_count": 59,
      "metadata": {
        "colab": {
          "base_uri": "https://localhost:8080/"
        },
        "id": "t9X-wHUxk9ZV",
        "outputId": "92aaae85-ad26-4f4f-d914-41340b400e11"
      },
      "outputs": [
        {
          "output_type": "execute_result",
          "data": {
            "text/plain": [
              "154.66027587316458"
            ]
          },
          "metadata": {},
          "execution_count": 59
        }
      ],
      "source": [
        "# Calculate RMSE performance metrics\n",
        "import math\n",
        "from sklearn.metrics import mean_squared_error\n",
        "math.sqrt(mean_squared_error(y_train,train_predict))"
      ]
    },
    {
      "cell_type": "code",
      "execution_count": 60,
      "metadata": {
        "colab": {
          "base_uri": "https://localhost:8080/"
        },
        "id": "z9LSvH59lCRF",
        "outputId": "2b37f04d-7dd1-4dc3-83b2-af017a4a4ffb"
      },
      "outputs": [
        {
          "output_type": "execute_result",
          "data": {
            "text/plain": [
              "326.779921229813"
            ]
          },
          "metadata": {},
          "execution_count": 60
        }
      ],
      "source": [
        "# Test Data RMSE\n",
        "math.sqrt(mean_squared_error(y_test,test_predict))"
      ]
    },
    {
      "cell_type": "code",
      "execution_count": 61,
      "metadata": {
        "colab": {
          "base_uri": "https://localhost:8080/"
        },
        "id": "mmGpEXrjqPv0",
        "outputId": "1921e01d-d5ad-496d-8c8a-a28b9da1ae82"
      },
      "outputs": [
        {
          "output_type": "execute_result",
          "data": {
            "text/plain": [
              "array([241.11736, 240.86185, 240.46974, ..., 421.18304, 420.56317,\n",
              "       419.94757], dtype=float32)"
            ]
          },
          "metadata": {},
          "execution_count": 61
        }
      ],
      "source": [
        "#Now, we create a dataframe b/w actual and predicted values\n",
        "test_predict.reshape(1350,)"
      ]
    },
    {
      "cell_type": "code",
      "execution_count": 62,
      "metadata": {
        "colab": {
          "base_uri": "https://localhost:8080/"
        },
        "id": "Fv9A8J2WqQBh",
        "outputId": "9e024944-bd87-4b91-d94b-2e5a9405e7bc"
      },
      "outputs": [
        {
          "output_type": "execute_result",
          "data": {
            "text/plain": [
              "array([267.799988, 267.399994, 270.5     , ..., 574.799988, 581.900024,\n",
              "       581.      ])"
            ]
          },
          "metadata": {},
          "execution_count": 62
        }
      ],
      "source": [
        "#Starts from 51 beacuse first 50 values were used to predict 51st value\n",
        "scaler.inverse_transform(test_data[51:]).reshape(1350,)"
      ]
    },
    {
      "cell_type": "code",
      "execution_count": 63,
      "metadata": {
        "colab": {
          "base_uri": "https://localhost:8080/"
        },
        "id": "XS4ohMn3q3tc",
        "outputId": "d1885d87-095e-4f49-cb81-30a63c5cb033"
      },
      "outputs": [
        {
          "output_type": "execute_result",
          "data": {
            "text/plain": [
              "array(['2018-05-25', '2018-05-28', '2018-05-29', ..., '2023-11-07',\n",
              "       '2023-11-08', '2023-11-09'], dtype=object)"
            ]
          },
          "metadata": {},
          "execution_count": 63
        }
      ],
      "source": [
        "df[\"Date\"][training_size+51:].values"
      ]
    },
    {
      "cell_type": "code",
      "execution_count": 64,
      "metadata": {
        "id": "BsFJFV3sr943"
      },
      "outputs": [],
      "source": [
        "df_dict={'Date':df[\"Date\"][training_size+51:].values,\"Actual\":scaler.inverse_transform(test_data[51:]).reshape(1350,),\"Predicted\":test_predict.reshape(1350,)}"
      ]
    },
    {
      "cell_type": "code",
      "execution_count": 65,
      "metadata": {
        "colab": {
          "base_uri": "https://localhost:8080/",
          "height": 423
        },
        "id": "vXzcXeGFsceS",
        "outputId": "d2c5a51f-2be8-4fc2-a114-6060ce743612"
      },
      "outputs": [
        {
          "output_type": "execute_result",
          "data": {
            "text/plain": [
              "            Date      Actual   Predicted\n",
              "0     2018-05-25  267.799988  241.117355\n",
              "1     2018-05-28  267.399994  240.861847\n",
              "2     2018-05-29  270.500000  240.469742\n",
              "3     2018-05-30  260.500000  240.121353\n",
              "4     2018-05-31  266.850006  239.972885\n",
              "...          ...         ...         ...\n",
              "1345  2023-11-03  576.000000  421.988678\n",
              "1346  2023-11-06  582.000000  421.653748\n",
              "1347  2023-11-07  574.799988  421.183044\n",
              "1348  2023-11-08  581.900024  420.563171\n",
              "1349  2023-11-09  581.000000  419.947571\n",
              "\n",
              "[1350 rows x 3 columns]"
            ],
            "text/html": [
              "\n",
              "  <div id=\"df-f1027c32-369c-4214-ba54-318d36ce11cc\" class=\"colab-df-container\">\n",
              "    <div>\n",
              "<style scoped>\n",
              "    .dataframe tbody tr th:only-of-type {\n",
              "        vertical-align: middle;\n",
              "    }\n",
              "\n",
              "    .dataframe tbody tr th {\n",
              "        vertical-align: top;\n",
              "    }\n",
              "\n",
              "    .dataframe thead th {\n",
              "        text-align: right;\n",
              "    }\n",
              "</style>\n",
              "<table border=\"1\" class=\"dataframe\">\n",
              "  <thead>\n",
              "    <tr style=\"text-align: right;\">\n",
              "      <th></th>\n",
              "      <th>Date</th>\n",
              "      <th>Actual</th>\n",
              "      <th>Predicted</th>\n",
              "    </tr>\n",
              "  </thead>\n",
              "  <tbody>\n",
              "    <tr>\n",
              "      <th>0</th>\n",
              "      <td>2018-05-25</td>\n",
              "      <td>267.799988</td>\n",
              "      <td>241.117355</td>\n",
              "    </tr>\n",
              "    <tr>\n",
              "      <th>1</th>\n",
              "      <td>2018-05-28</td>\n",
              "      <td>267.399994</td>\n",
              "      <td>240.861847</td>\n",
              "    </tr>\n",
              "    <tr>\n",
              "      <th>2</th>\n",
              "      <td>2018-05-29</td>\n",
              "      <td>270.500000</td>\n",
              "      <td>240.469742</td>\n",
              "    </tr>\n",
              "    <tr>\n",
              "      <th>3</th>\n",
              "      <td>2018-05-30</td>\n",
              "      <td>260.500000</td>\n",
              "      <td>240.121353</td>\n",
              "    </tr>\n",
              "    <tr>\n",
              "      <th>4</th>\n",
              "      <td>2018-05-31</td>\n",
              "      <td>266.850006</td>\n",
              "      <td>239.972885</td>\n",
              "    </tr>\n",
              "    <tr>\n",
              "      <th>...</th>\n",
              "      <td>...</td>\n",
              "      <td>...</td>\n",
              "      <td>...</td>\n",
              "    </tr>\n",
              "    <tr>\n",
              "      <th>1345</th>\n",
              "      <td>2023-11-03</td>\n",
              "      <td>576.000000</td>\n",
              "      <td>421.988678</td>\n",
              "    </tr>\n",
              "    <tr>\n",
              "      <th>1346</th>\n",
              "      <td>2023-11-06</td>\n",
              "      <td>582.000000</td>\n",
              "      <td>421.653748</td>\n",
              "    </tr>\n",
              "    <tr>\n",
              "      <th>1347</th>\n",
              "      <td>2023-11-07</td>\n",
              "      <td>574.799988</td>\n",
              "      <td>421.183044</td>\n",
              "    </tr>\n",
              "    <tr>\n",
              "      <th>1348</th>\n",
              "      <td>2023-11-08</td>\n",
              "      <td>581.900024</td>\n",
              "      <td>420.563171</td>\n",
              "    </tr>\n",
              "    <tr>\n",
              "      <th>1349</th>\n",
              "      <td>2023-11-09</td>\n",
              "      <td>581.000000</td>\n",
              "      <td>419.947571</td>\n",
              "    </tr>\n",
              "  </tbody>\n",
              "</table>\n",
              "<p>1350 rows × 3 columns</p>\n",
              "</div>\n",
              "    <div class=\"colab-df-buttons\">\n",
              "\n",
              "  <div class=\"colab-df-container\">\n",
              "    <button class=\"colab-df-convert\" onclick=\"convertToInteractive('df-f1027c32-369c-4214-ba54-318d36ce11cc')\"\n",
              "            title=\"Convert this dataframe to an interactive table.\"\n",
              "            style=\"display:none;\">\n",
              "\n",
              "  <svg xmlns=\"http://www.w3.org/2000/svg\" height=\"24px\" viewBox=\"0 -960 960 960\">\n",
              "    <path d=\"M120-120v-720h720v720H120Zm60-500h600v-160H180v160Zm220 220h160v-160H400v160Zm0 220h160v-160H400v160ZM180-400h160v-160H180v160Zm440 0h160v-160H620v160ZM180-180h160v-160H180v160Zm440 0h160v-160H620v160Z\"/>\n",
              "  </svg>\n",
              "    </button>\n",
              "\n",
              "  <style>\n",
              "    .colab-df-container {\n",
              "      display:flex;\n",
              "      gap: 12px;\n",
              "    }\n",
              "\n",
              "    .colab-df-convert {\n",
              "      background-color: #E8F0FE;\n",
              "      border: none;\n",
              "      border-radius: 50%;\n",
              "      cursor: pointer;\n",
              "      display: none;\n",
              "      fill: #1967D2;\n",
              "      height: 32px;\n",
              "      padding: 0 0 0 0;\n",
              "      width: 32px;\n",
              "    }\n",
              "\n",
              "    .colab-df-convert:hover {\n",
              "      background-color: #E2EBFA;\n",
              "      box-shadow: 0px 1px 2px rgba(60, 64, 67, 0.3), 0px 1px 3px 1px rgba(60, 64, 67, 0.15);\n",
              "      fill: #174EA6;\n",
              "    }\n",
              "\n",
              "    .colab-df-buttons div {\n",
              "      margin-bottom: 4px;\n",
              "    }\n",
              "\n",
              "    [theme=dark] .colab-df-convert {\n",
              "      background-color: #3B4455;\n",
              "      fill: #D2E3FC;\n",
              "    }\n",
              "\n",
              "    [theme=dark] .colab-df-convert:hover {\n",
              "      background-color: #434B5C;\n",
              "      box-shadow: 0px 1px 3px 1px rgba(0, 0, 0, 0.15);\n",
              "      filter: drop-shadow(0px 1px 2px rgba(0, 0, 0, 0.3));\n",
              "      fill: #FFFFFF;\n",
              "    }\n",
              "  </style>\n",
              "\n",
              "    <script>\n",
              "      const buttonEl =\n",
              "        document.querySelector('#df-f1027c32-369c-4214-ba54-318d36ce11cc button.colab-df-convert');\n",
              "      buttonEl.style.display =\n",
              "        google.colab.kernel.accessAllowed ? 'block' : 'none';\n",
              "\n",
              "      async function convertToInteractive(key) {\n",
              "        const element = document.querySelector('#df-f1027c32-369c-4214-ba54-318d36ce11cc');\n",
              "        const dataTable =\n",
              "          await google.colab.kernel.invokeFunction('convertToInteractive',\n",
              "                                                    [key], {});\n",
              "        if (!dataTable) return;\n",
              "\n",
              "        const docLinkHtml = 'Like what you see? Visit the ' +\n",
              "          '<a target=\"_blank\" href=https://colab.research.google.com/notebooks/data_table.ipynb>data table notebook</a>'\n",
              "          + ' to learn more about interactive tables.';\n",
              "        element.innerHTML = '';\n",
              "        dataTable['output_type'] = 'display_data';\n",
              "        await google.colab.output.renderOutput(dataTable, element);\n",
              "        const docLink = document.createElement('div');\n",
              "        docLink.innerHTML = docLinkHtml;\n",
              "        element.appendChild(docLink);\n",
              "      }\n",
              "    </script>\n",
              "  </div>\n",
              "\n",
              "\n",
              "<div id=\"df-1345933c-796f-460f-b9fb-43f534814177\">\n",
              "  <button class=\"colab-df-quickchart\" onclick=\"quickchart('df-1345933c-796f-460f-b9fb-43f534814177')\"\n",
              "            title=\"Suggest charts\"\n",
              "            style=\"display:none;\">\n",
              "\n",
              "<svg xmlns=\"http://www.w3.org/2000/svg\" height=\"24px\"viewBox=\"0 0 24 24\"\n",
              "     width=\"24px\">\n",
              "    <g>\n",
              "        <path d=\"M19 3H5c-1.1 0-2 .9-2 2v14c0 1.1.9 2 2 2h14c1.1 0 2-.9 2-2V5c0-1.1-.9-2-2-2zM9 17H7v-7h2v7zm4 0h-2V7h2v10zm4 0h-2v-4h2v4z\"/>\n",
              "    </g>\n",
              "</svg>\n",
              "  </button>\n",
              "\n",
              "<style>\n",
              "  .colab-df-quickchart {\n",
              "      --bg-color: #E8F0FE;\n",
              "      --fill-color: #1967D2;\n",
              "      --hover-bg-color: #E2EBFA;\n",
              "      --hover-fill-color: #174EA6;\n",
              "      --disabled-fill-color: #AAA;\n",
              "      --disabled-bg-color: #DDD;\n",
              "  }\n",
              "\n",
              "  [theme=dark] .colab-df-quickchart {\n",
              "      --bg-color: #3B4455;\n",
              "      --fill-color: #D2E3FC;\n",
              "      --hover-bg-color: #434B5C;\n",
              "      --hover-fill-color: #FFFFFF;\n",
              "      --disabled-bg-color: #3B4455;\n",
              "      --disabled-fill-color: #666;\n",
              "  }\n",
              "\n",
              "  .colab-df-quickchart {\n",
              "    background-color: var(--bg-color);\n",
              "    border: none;\n",
              "    border-radius: 50%;\n",
              "    cursor: pointer;\n",
              "    display: none;\n",
              "    fill: var(--fill-color);\n",
              "    height: 32px;\n",
              "    padding: 0;\n",
              "    width: 32px;\n",
              "  }\n",
              "\n",
              "  .colab-df-quickchart:hover {\n",
              "    background-color: var(--hover-bg-color);\n",
              "    box-shadow: 0 1px 2px rgba(60, 64, 67, 0.3), 0 1px 3px 1px rgba(60, 64, 67, 0.15);\n",
              "    fill: var(--button-hover-fill-color);\n",
              "  }\n",
              "\n",
              "  .colab-df-quickchart-complete:disabled,\n",
              "  .colab-df-quickchart-complete:disabled:hover {\n",
              "    background-color: var(--disabled-bg-color);\n",
              "    fill: var(--disabled-fill-color);\n",
              "    box-shadow: none;\n",
              "  }\n",
              "\n",
              "  .colab-df-spinner {\n",
              "    border: 2px solid var(--fill-color);\n",
              "    border-color: transparent;\n",
              "    border-bottom-color: var(--fill-color);\n",
              "    animation:\n",
              "      spin 1s steps(1) infinite;\n",
              "  }\n",
              "\n",
              "  @keyframes spin {\n",
              "    0% {\n",
              "      border-color: transparent;\n",
              "      border-bottom-color: var(--fill-color);\n",
              "      border-left-color: var(--fill-color);\n",
              "    }\n",
              "    20% {\n",
              "      border-color: transparent;\n",
              "      border-left-color: var(--fill-color);\n",
              "      border-top-color: var(--fill-color);\n",
              "    }\n",
              "    30% {\n",
              "      border-color: transparent;\n",
              "      border-left-color: var(--fill-color);\n",
              "      border-top-color: var(--fill-color);\n",
              "      border-right-color: var(--fill-color);\n",
              "    }\n",
              "    40% {\n",
              "      border-color: transparent;\n",
              "      border-right-color: var(--fill-color);\n",
              "      border-top-color: var(--fill-color);\n",
              "    }\n",
              "    60% {\n",
              "      border-color: transparent;\n",
              "      border-right-color: var(--fill-color);\n",
              "    }\n",
              "    80% {\n",
              "      border-color: transparent;\n",
              "      border-right-color: var(--fill-color);\n",
              "      border-bottom-color: var(--fill-color);\n",
              "    }\n",
              "    90% {\n",
              "      border-color: transparent;\n",
              "      border-bottom-color: var(--fill-color);\n",
              "    }\n",
              "  }\n",
              "</style>\n",
              "\n",
              "  <script>\n",
              "    async function quickchart(key) {\n",
              "      const quickchartButtonEl =\n",
              "        document.querySelector('#' + key + ' button');\n",
              "      quickchartButtonEl.disabled = true;  // To prevent multiple clicks.\n",
              "      quickchartButtonEl.classList.add('colab-df-spinner');\n",
              "      try {\n",
              "        const charts = await google.colab.kernel.invokeFunction(\n",
              "            'suggestCharts', [key], {});\n",
              "      } catch (error) {\n",
              "        console.error('Error during call to suggestCharts:', error);\n",
              "      }\n",
              "      quickchartButtonEl.classList.remove('colab-df-spinner');\n",
              "      quickchartButtonEl.classList.add('colab-df-quickchart-complete');\n",
              "    }\n",
              "    (() => {\n",
              "      let quickchartButtonEl =\n",
              "        document.querySelector('#df-1345933c-796f-460f-b9fb-43f534814177 button');\n",
              "      quickchartButtonEl.style.display =\n",
              "        google.colab.kernel.accessAllowed ? 'block' : 'none';\n",
              "    })();\n",
              "  </script>\n",
              "</div>\n",
              "    </div>\n",
              "  </div>\n"
            ]
          },
          "metadata": {},
          "execution_count": 65
        }
      ],
      "source": [
        "pd.DataFrame(df_dict)"
      ]
    },
    {
      "cell_type": "code",
      "execution_count": 66,
      "metadata": {
        "colab": {
          "base_uri": "https://localhost:8080/",
          "height": 430
        },
        "id": "3eCKV8FD7VOV",
        "outputId": "fb9ae8cc-2c5d-4dc7-9bd7-06f16364d466"
      },
      "outputs": [
        {
          "output_type": "display_data",
          "data": {
            "text/plain": [
              "<Figure size 640x480 with 1 Axes>"
            ],
            "image/png": "[encoded data removed]"
          },
          "metadata": {}
        }
      ],
      "source": [
        "#Now, plotting the predictions\n",
        "look_back=50\n",
        "trainPredictPlot = np.empty_like(open_array)\n",
        "trainPredictPlot[:, :] = np.nan\n",
        "trainPredictPlot[look_back:len(train_predict)+look_back, :] = train_predict\n",
        "# shift test predictions for plotting\n",
        "testPredictPlot = np.empty_like(open_array)\n",
        "testPredictPlot[:, :] = np.nan\n",
        "testPredictPlot[len(train_predict)+(look_back*2)+1:len(open_array)-1, :] = test_predict\n",
        "# plot baseline and predictions\n",
        "plt.plot(scaler.inverse_transform(open_array))\n",
        "plt.plot(trainPredictPlot)\n",
        "plt.plot(testPredictPlot)\n",
        "plt.show()"
      ]
    },
    {
      "cell_type": "code",
      "execution_count": 67,
      "metadata": {
        "colab": {
          "base_uri": "https://localhost:8080/"
        },
        "id": "_rgoaY3N80iM",
        "outputId": "678c1ba6-da4e-44b1-ab87-5f5acde4bcdf"
      },
      "outputs": [
        {
          "output_type": "execute_result",
          "data": {
            "text/plain": [
              "array([[0.0085169 ],\n",
              "       [0.00884832],\n",
              "       [0.00792341],\n",
              "       ...,\n",
              "       [0.91708489],\n",
              "       [0.9286849 ],\n",
              "       [0.92721444]])"
            ]
          },
          "metadata": {},
          "execution_count": 67
        }
      ],
      "source": [
        "#Last date in our data is 9/11/2023 , To predict value for 10/11/2023 we need last 50 days value\n",
        "open_array"
      ]
    },
    {
      "cell_type": "code",
      "execution_count": 68,
      "metadata": {
        "colab": {
          "base_uri": "https://localhost:8080/"
        },
        "id": "GjyR7CBvXaNM",
        "outputId": "fd189321-901b-4029-9028-9e324e4e9e9f"
      },
      "outputs": [
        {
          "output_type": "execute_result",
          "data": {
            "text/plain": [
              "(7003, 1)"
            ]
          },
          "metadata": {},
          "execution_count": 68
        }
      ],
      "source": [
        "open_array.shape"
      ]
    },
    {
      "cell_type": "code",
      "execution_count": 69,
      "metadata": {
        "id": "RWuKjd_bYvka"
      },
      "outputs": [],
      "source": [
        "input_10Nov=open_array[open_array.shape[0]-50:,:]"
      ]
    },
    {
      "cell_type": "code",
      "execution_count": 70,
      "metadata": {
        "colab": {
          "base_uri": "https://localhost:8080/"
        },
        "id": "B2qNTNyYFUza",
        "outputId": "32dee265-4cf6-436b-fad3-5187f3dc51de"
      },
      "outputs": [
        {
          "output_type": "execute_result",
          "data": {
            "text/plain": [
              "array([[0.91520608, 0.92018914, 0.90809902, 0.89731601, 0.91251028,\n",
              "        0.91839191, 0.91618632, 0.9059751 , 0.92721444, 0.93701721,\n",
              "        0.94788199, 0.93930456, 0.95572419, 0.95719454, 0.95629598,\n",
              "        0.95964524, 0.95825655, 0.94763688, 0.96070724, 0.94845378,\n",
              "        0.94755521, 0.94396084, 0.94657488, 0.95270161, 0.95825655,\n",
              "        0.9419186 , 0.94747354, 0.93865101, 0.93701721, 0.95319182,\n",
              "        0.94322561, 0.92190461, 0.91904546, 0.92182294, 0.92190461,\n",
              "        0.90891591, 0.90907935, 0.89796947, 0.89061739, 0.87893581,\n",
              "        0.87656679, 0.89780613, 0.90434131, 0.90311596, 0.91103983,\n",
              "        0.91904546, 0.92884824, 0.91708489, 0.9286849 , 0.92721444]])"
            ]
          },
          "metadata": {},
          "execution_count": 70
        }
      ],
      "source": [
        "input_10Nov.reshape(1,-1)"
      ]
    },
    {
      "cell_type": "code",
      "execution_count": 71,
      "metadata": {
        "colab": {
          "base_uri": "https://localhost:8080/"
        },
        "id": "hLbAiaNsY9_O",
        "outputId": "4f7f6ac3-7891-45cb-9ae2-3b9422187a18"
      },
      "outputs": [
        {
          "output_type": "execute_result",
          "data": {
            "text/plain": [
              "array([[0.6612944]], dtype=float32)"
            ]
          },
          "metadata": {},
          "execution_count": 71
        }
      ],
      "source": [
        "model.predict(input_10Nov.reshape((1,50,1)),verbose=0)"
      ]
    },
    {
      "cell_type": "code",
      "execution_count": 72,
      "metadata": {
        "colab": {
          "base_uri": "https://localhost:8080/"
        },
        "id": "XBQ1SjP8oKeR",
        "outputId": "17929e87-5ead-49a3-c540-0bdc1ca0e41e"
      },
      "outputs": [
        {
          "output_type": "execute_result",
          "data": {
            "text/plain": [
              "array([[418.23785]], dtype=float32)"
            ]
          },
          "metadata": {},
          "execution_count": 72
        }
      ],
      "source": [
        "scaler.inverse_transform(model.predict(input_10Nov.reshape((1,50,1)),verbose=0))"
      ]
    },
    {
      "cell_type": "code",
      "execution_count": 72,
      "metadata": {
        "id": "GtLk9lsMZXSP"
      },
      "outputs": [],
      "source": []
    }
  ],
  "metadata": {
    "accelerator": "GPU",
    "colab": {
      "provenance": [],
      "authorship_tag": "ABX9TyNHcWNyvj+KJqMO56Esud/y",
      "include_colab_link": true
    },
    "kernelspec": {
      "display_name": "Python 3",
      "name": "python3"
    },
    "language_info": {
      "name": "python"
    }
  },
  "nbformat": 4,
  "nbformat_minor": 0
}